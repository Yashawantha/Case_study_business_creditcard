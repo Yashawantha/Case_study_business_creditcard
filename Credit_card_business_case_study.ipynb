{
 "cells": [
  {
   "cell_type": "code",
   "execution_count": 3,
   "id": "83f42c52",
   "metadata": {},
   "outputs": [],
   "source": [
    "import pandas as pd\n",
    "import numpy as np"
   ]
  },
  {
   "cell_type": "markdown",
   "id": "ffe6874a",
   "metadata": {},
   "source": [
    "# The Case Study"
   ]
  },
  {
   "cell_type": "markdown",
   "id": "83a953d9",
   "metadata": {},
   "source": [
    "\n",
    "\n",
    "Analyzing an affiliated credit card (special card only available to members of a specific group). Think of it like this the credit card company is like Citibank and the affiliated group is a company like Indian Oil or Barista. The affiliated group has to pay some fees to credit card company (because the credit card company is providing this service to the group).\n",
    "Product Details :\n",
    "- average card balance is Rs 1000\n",
    "- each card has an interest rate of 15%\n",
    "- membership fee is Rs 20 per card\n",
    "- loss rate is 3% (NOTE: what are the interpretations of this ? state your assumption CLEARLY when solving )\n",
    "- Rs 25 operating cost per card\n",
    "- Rs 10 affiliation fee per card (cost to the group organization itself, so that their members get this awesome card program)\n",
    "- 6.5% cost of funds (that credit card company must pay to the bank where it gets money)\n",
    "- bill/statement is issued on 1st of every month\n",
    "- credit-free period = 15 days from the bill/statement issue date.\n"
   ]
  },
  {
   "cell_type": "code",
   "execution_count": 4,
   "id": "28c1fdd0",
   "metadata": {},
   "outputs": [],
   "source": [
    "# Initialization of the given parameters\n",
    "\n",
    "total_customer=1000 # 1000 Customers\n",
    "\n",
    "#Assuming 95% customers paid on time of credit card bill\n",
    "customer_with_no_delay=95/100\n",
    "\n",
    "# Assuming 2% paid 30 days after due date\n",
    "customer_with_30_days=2/100 \n",
    "\n",
    "# Assuming 2% paid 45 days after due date\n",
    "customer_with_45_days=2/100 \n",
    "\n",
    "\n",
    "# Assuming 1% paid 60 days after due date\n",
    "customer_with_60_days=1/100\n",
    "\n",
    "#Monthly average balance to be maintained\n",
    "month_bal=1000\n",
    "\n",
    "# Source of Revenue per year\n",
    "\n",
    "mem_fee=12*20*total_customer           # membership fee is Rs 20 per card\n",
    "\n",
    "affil_fee=12*10*total_customer         # Rs 10 per month affiliation fee per card\n",
    "\n",
    "int_rate=15/100                        # Interest rate\n",
    "\n",
    "# Expenses per year\n",
    "\n",
    "cost_of_funds=12*total_customer*1000*0.065/12     # Bank lending money to the credit card company\n",
    "\n",
    "\n",
    "operating_cost=12*25*1000               # Rs 25 operating cost per card\n",
    "\n",
    "\n",
    "loss_rate=3/100                         # 3% loss due to non-payment of credit card bills"
   ]
  },
  {
   "cell_type": "code",
   "execution_count": 5,
   "id": "0d795f6d",
   "metadata": {},
   "outputs": [
    {
     "data": {
      "text/plain": [
       "65000.0"
      ]
     },
     "execution_count": 5,
     "metadata": {},
     "output_type": "execute_result"
    }
   ],
   "source": [
    "cost_of_funds"
   ]
  },
  {
   "cell_type": "markdown",
   "id": "8194e0e9",
   "metadata": {},
   "source": [
    "Provide a monthly calculation of profits/losses given :\n",
    "\n",
    "i) The interest rate is simple interest.\n",
    "\n",
    "ii) Interest is calculated on a daily basis.\n",
    "\n",
    "iii) The average card balance is the average end of month balance.\n",
    "\n",
    "iv) All members are more than a year old.\n",
    "\n"
   ]
  },
  {
   "cell_type": "markdown",
   "id": "11692236",
   "metadata": {},
   "source": [
    "Consider 1000 customers for the above scenario, divide these 1000 customers into following groups(upon your assumption and understanding about the credit lending industry)\n",
    "\n",
    "1.customers who pay the bill within the credit-free period\n",
    "\n",
    "2.customers paying 30 days after the last due date\n",
    "\n",
    "3.customer paying 45 days after the last due date\n",
    "\n",
    "4.customer paying 60 days after the last due date(remove these customers for the complete calculation of the next month,basically, you are not supposed to provide further credit services to these customers)\n",
    "\n",
    "\n"
   ]
  },
  {
   "cell_type": "code",
   "execution_count": 6,
   "id": "0e6c57be",
   "metadata": {},
   "outputs": [
    {
     "data": {
      "text/html": [
       "<div>\n",
       "<style scoped>\n",
       "    .dataframe tbody tr th:only-of-type {\n",
       "        vertical-align: middle;\n",
       "    }\n",
       "\n",
       "    .dataframe tbody tr th {\n",
       "        vertical-align: top;\n",
       "    }\n",
       "\n",
       "    .dataframe thead th {\n",
       "        text-align: right;\n",
       "    }\n",
       "</style>\n",
       "<table border=\"1\" class=\"dataframe\">\n",
       "  <thead>\n",
       "    <tr style=\"text-align: right;\">\n",
       "      <th></th>\n",
       "      <th>Category</th>\n",
       "    </tr>\n",
       "  </thead>\n",
       "  <tbody>\n",
       "    <tr>\n",
       "      <th>1</th>\n",
       "      <td>Paid before due date</td>\n",
       "    </tr>\n",
       "    <tr>\n",
       "      <th>2</th>\n",
       "      <td>Paid 30 days after due date</td>\n",
       "    </tr>\n",
       "    <tr>\n",
       "      <th>3</th>\n",
       "      <td>Paid 45 days after due date</td>\n",
       "    </tr>\n",
       "    <tr>\n",
       "      <th>4</th>\n",
       "      <td>Paid 60 days after due date</td>\n",
       "    </tr>\n",
       "  </tbody>\n",
       "</table>\n",
       "</div>"
      ],
      "text/plain": [
       "                      Category\n",
       "1         Paid before due date\n",
       "2  Paid 30 days after due date\n",
       "3  Paid 45 days after due date\n",
       "4  Paid 60 days after due date"
      ]
     },
     "execution_count": 6,
     "metadata": {},
     "output_type": "execute_result"
    }
   ],
   "source": [
    "# Category Table based on default date\n",
    "\n",
    "no_of_days=30\n",
    "categories=4\n",
    "category_type=[]\n",
    "\n",
    "for customer_category in range(categories):\n",
    "    \n",
    "    if customer_category==0:\n",
    "        category_type.append('Paid before due date')\n",
    "        \n",
    "    else:\n",
    "        category_type.append('Paid %d days after due date'%no_of_days)\n",
    "        no_of_days+=15     \n",
    "\n",
    "Data_Calculations=pd.DataFrame({'Category':category_type},index=np.arange(1,categories+1))\n",
    "\n",
    "Data_Calculations"
   ]
  },
  {
   "cell_type": "code",
   "execution_count": 7,
   "id": "a2cb9ecf",
   "metadata": {},
   "outputs": [
    {
     "data": {
      "text/plain": [
       "'Paid before due date'"
      ]
     },
     "execution_count": 7,
     "metadata": {},
     "output_type": "execute_result"
    }
   ],
   "source": [
    "category_type[0]"
   ]
  },
  {
   "cell_type": "code",
   "execution_count": 8,
   "id": "62fe98ef",
   "metadata": {},
   "outputs": [
    {
     "data": {
      "text/plain": [
       "'Paid 30 days after due date'"
      ]
     },
     "execution_count": 8,
     "metadata": {},
     "output_type": "execute_result"
    }
   ],
   "source": [
    "category_type[1]"
   ]
  },
  {
   "cell_type": "code",
   "execution_count": 9,
   "id": "b4feea4e",
   "metadata": {},
   "outputs": [
    {
     "data": {
      "text/plain": [
       "'Paid 45 days after due date'"
      ]
     },
     "execution_count": 9,
     "metadata": {},
     "output_type": "execute_result"
    }
   ],
   "source": [
    "category_type[2]"
   ]
  },
  {
   "cell_type": "code",
   "execution_count": 10,
   "id": "e3d4fd2e",
   "metadata": {},
   "outputs": [
    {
     "data": {
      "text/plain": [
       "'Paid 60 days after due date'"
      ]
     },
     "execution_count": 10,
     "metadata": {},
     "output_type": "execute_result"
    }
   ],
   "source": [
    "category_type[3]"
   ]
  },
  {
   "cell_type": "code",
   "execution_count": 11,
   "id": "c7cebd8a",
   "metadata": {},
   "outputs": [],
   "source": [
    "#Interest after 'N' days = N*outstanding balance*Interest rate per year/365\n",
    "\n",
    "def interest_calc(payment_days):\n",
    "    \n",
    "    # Billing cycle starts from 1st of every month\n",
    "    average_day_trans= 15  # Assuming average day of transaction as 15th of billing cycle \n",
    "    \n",
    "    if payment_days==category_type[0]:\n",
    "        Int_per_card=0\n",
    "        \n",
    "    #Interest for 30 days\n",
    "    \n",
    "    elif payment_days==category_type[1]:\n",
    "        \n",
    "        Int_per_card=(average_day_trans+15+30)*month_bal*int_rate/365\n",
    "        \n",
    "    #Interest for 45 days\n",
    "    elif payment_days==category_type[2]:\n",
    "        Int_per_card=(average_day_trans+15+45)*month_bal*int_rate/365\n",
    "    #Interest for 60 days\n",
    "    else:\n",
    "        Int_per_card=(average_day_trans+15+60)*month_bal*int_rate/365\n",
    "        \n",
    "    return Int_per_card "
   ]
  },
  {
   "cell_type": "code",
   "execution_count": 12,
   "id": "f35478dc",
   "metadata": {},
   "outputs": [],
   "source": [
    "def total_int(column):\n",
    "    \n",
    "    payment_days=column[0]\n",
    "    interest_per_card=column[1]\n",
    "    \n",
    "    if payment_days==category_type[0]:\n",
    "        total_interest=0\n",
    "        \n",
    "    #Interest for all customers: late by 30 days\n",
    "    \n",
    "    elif payment_days==category_type[1]:\n",
    "        total_interest=12*interest_per_card*customer_with_30_days*total_customer\n",
    "        \n",
    "    #Interest for all customers: late by 45 days\n",
    "    \n",
    "    elif payment_days==category_type[2]:\n",
    "        total_interest=12*interest_per_card*customer_with_45_days*total_customer\n",
    "        \n",
    "   #Interest for all customers: late by 60 days, remove these customers after non payment\n",
    "\n",
    "    else:\n",
    "        total_interest=12*interest_per_card*customer_with_60_days*total_customer\n",
    "        \n",
    "    return total_interest"
   ]
  },
  {
   "cell_type": "code",
   "execution_count": 13,
   "id": "703f2423",
   "metadata": {},
   "outputs": [],
   "source": [
    "def PnL_check(): # Column name based on profit/loss\n",
    "    \n",
    "    if net_profit_loss>=0:\n",
    "        \n",
    "        return 'Profit margin in percentage'\n",
    "    \n",
    "    else:\n",
    "        \n",
    "        return 'Loss margin in percentage'"
   ]
  },
  {
   "cell_type": "code",
   "execution_count": 14,
   "id": "45327e37",
   "metadata": {},
   "outputs": [
    {
     "data": {
      "text/html": [
       "<div>\n",
       "<style scoped>\n",
       "    .dataframe tbody tr th:only-of-type {\n",
       "        vertical-align: middle;\n",
       "    }\n",
       "\n",
       "    .dataframe tbody tr th {\n",
       "        vertical-align: top;\n",
       "    }\n",
       "\n",
       "    .dataframe thead th {\n",
       "        text-align: right;\n",
       "    }\n",
       "</style>\n",
       "<table border=\"1\" class=\"dataframe\">\n",
       "  <thead>\n",
       "    <tr style=\"text-align: right;\">\n",
       "      <th></th>\n",
       "      <th>Category</th>\n",
       "    </tr>\n",
       "  </thead>\n",
       "  <tbody>\n",
       "    <tr>\n",
       "      <th>1</th>\n",
       "      <td>Paid before due date</td>\n",
       "    </tr>\n",
       "    <tr>\n",
       "      <th>2</th>\n",
       "      <td>Paid 30 days after due date</td>\n",
       "    </tr>\n",
       "    <tr>\n",
       "      <th>3</th>\n",
       "      <td>Paid 45 days after due date</td>\n",
       "    </tr>\n",
       "    <tr>\n",
       "      <th>4</th>\n",
       "      <td>Paid 60 days after due date</td>\n",
       "    </tr>\n",
       "  </tbody>\n",
       "</table>\n",
       "</div>"
      ],
      "text/plain": [
       "                      Category\n",
       "1         Paid before due date\n",
       "2  Paid 30 days after due date\n",
       "3  Paid 45 days after due date\n",
       "4  Paid 60 days after due date"
      ]
     },
     "execution_count": 14,
     "metadata": {},
     "output_type": "execute_result"
    }
   ],
   "source": [
    "Data_Calculations"
   ]
  },
  {
   "cell_type": "code",
   "execution_count": 15,
   "id": "aacdc2da",
   "metadata": {},
   "outputs": [
    {
     "data": {
      "text/html": [
       "<div>\n",
       "<style scoped>\n",
       "    .dataframe tbody tr th:only-of-type {\n",
       "        vertical-align: middle;\n",
       "    }\n",
       "\n",
       "    .dataframe tbody tr th {\n",
       "        vertical-align: top;\n",
       "    }\n",
       "\n",
       "    .dataframe thead th {\n",
       "        text-align: right;\n",
       "    }\n",
       "</style>\n",
       "<table border=\"1\" class=\"dataframe\">\n",
       "  <thead>\n",
       "    <tr style=\"text-align: right;\">\n",
       "      <th></th>\n",
       "      <th>Category</th>\n",
       "      <th>Estimated_Interest_on_Default</th>\n",
       "      <th>Total_Interest_1Year</th>\n",
       "      <th>Fixed_Late_Fee_charge</th>\n",
       "    </tr>\n",
       "  </thead>\n",
       "  <tbody>\n",
       "    <tr>\n",
       "      <th>1</th>\n",
       "      <td>Paid before due date</td>\n",
       "      <td>0.00</td>\n",
       "      <td>0.0</td>\n",
       "      <td>0</td>\n",
       "    </tr>\n",
       "    <tr>\n",
       "      <th>2</th>\n",
       "      <td>Paid 30 days after due date</td>\n",
       "      <td>24.66</td>\n",
       "      <td>5918.4</td>\n",
       "      <td>50</td>\n",
       "    </tr>\n",
       "    <tr>\n",
       "      <th>3</th>\n",
       "      <td>Paid 45 days after due date</td>\n",
       "      <td>30.82</td>\n",
       "      <td>7396.8</td>\n",
       "      <td>50</td>\n",
       "    </tr>\n",
       "    <tr>\n",
       "      <th>4</th>\n",
       "      <td>Paid 60 days after due date</td>\n",
       "      <td>36.99</td>\n",
       "      <td>4438.8</td>\n",
       "      <td>50</td>\n",
       "    </tr>\n",
       "  </tbody>\n",
       "</table>\n",
       "</div>"
      ],
      "text/plain": [
       "                      Category  Estimated_Interest_on_Default  \\\n",
       "1         Paid before due date                           0.00   \n",
       "2  Paid 30 days after due date                          24.66   \n",
       "3  Paid 45 days after due date                          30.82   \n",
       "4  Paid 60 days after due date                          36.99   \n",
       "\n",
       "   Total_Interest_1Year  Fixed_Late_Fee_charge  \n",
       "1                   0.0                      0  \n",
       "2                5918.4                     50  \n",
       "3                7396.8                     50  \n",
       "4                4438.8                     50  "
      ]
     },
     "execution_count": 15,
     "metadata": {},
     "output_type": "execute_result"
    }
   ],
   "source": [
    "Data_Calculations['Estimated_Interest_on_Default']=Data_Calculations['Category'].apply(interest_calc).round(2)\n",
    "\n",
    "Data_Calculations['Total_Interest_1Year']=Data_Calculations[['Category','Estimated_Interest_on_Default']].apply(total_int,axis=1)\n",
    "\n",
    "Data_Calculations['Fixed_Late_Fee_charge']=Data_Calculations['Estimated_Interest_on_Default'].apply(lambda x: 0 if x==0 else 50)\n",
    "\n",
    "Data_Calculations"
   ]
  },
  {
   "cell_type": "code",
   "execution_count": 16,
   "id": "e743615a",
   "metadata": {},
   "outputs": [
    {
     "data": {
      "text/html": [
       "<div>\n",
       "<style scoped>\n",
       "    .dataframe tbody tr th:only-of-type {\n",
       "        vertical-align: middle;\n",
       "    }\n",
       "\n",
       "    .dataframe tbody tr th {\n",
       "        vertical-align: top;\n",
       "    }\n",
       "\n",
       "    .dataframe thead th {\n",
       "        text-align: right;\n",
       "    }\n",
       "</style>\n",
       "<table border=\"1\" class=\"dataframe\">\n",
       "  <thead>\n",
       "    <tr style=\"text-align: right;\">\n",
       "      <th></th>\n",
       "      <th>Total yearly card balance</th>\n",
       "      <th>Earnings</th>\n",
       "      <th>Expenses</th>\n",
       "      <th>Margin</th>\n",
       "      <th>Profit margin in percentage</th>\n",
       "    </tr>\n",
       "  </thead>\n",
       "  <tbody>\n",
       "    <tr>\n",
       "      <th></th>\n",
       "      <td>12000000</td>\n",
       "      <td>407754.0</td>\n",
       "      <td>395000.0</td>\n",
       "      <td>12754.0</td>\n",
       "      <td>3.23</td>\n",
       "    </tr>\n",
       "  </tbody>\n",
       "</table>\n",
       "</div>"
      ],
      "text/plain": [
       "   Total yearly card balance  Earnings  Expenses   Margin  \\\n",
       "                    12000000  407754.0  395000.0  12754.0   \n",
       "\n",
       "   Profit margin in percentage  \n",
       "                          3.23  "
      ]
     },
     "execution_count": 16,
     "metadata": {},
     "output_type": "execute_result"
    }
   ],
   "source": [
    "Expenses=cost_of_funds+operating_cost+(loss_rate*total_customer*month_bal)\n",
    "\n",
    "Earnings=mem_fee+affil_fee+np.sum(Data_Calculations['Total_Interest_1Year'])+(12*max(Data_Calculations['Fixed_Late_Fee_charge'])*5/100*total_customer)\n",
    "\n",
    "margin=Earnings-Expenses # margin earned above or below total amount spent\n",
    "\n",
    "net_profit_loss=margin/Expenses*100\n",
    "    \n",
    "report=pd.DataFrame({'Total yearly card balance':12*month_bal*total_customer,'Earnings':Earnings,'Expenses':Expenses,\n",
    "              'Margin':margin,PnL_check():net_profit_loss.round(2)},index=[' '])\n",
    "report"
   ]
  }
 ],
 "metadata": {
  "kernelspec": {
   "display_name": "Python 3 (ipykernel)",
   "language": "python",
   "name": "python3"
  },
  "language_info": {
   "codemirror_mode": {
    "name": "ipython",
    "version": 3
   },
   "file_extension": ".py",
   "mimetype": "text/x-python",
   "name": "python",
   "nbconvert_exporter": "python",
   "pygments_lexer": "ipython3",
   "version": "3.9.7"
  }
 },
 "nbformat": 4,
 "nbformat_minor": 5
}
